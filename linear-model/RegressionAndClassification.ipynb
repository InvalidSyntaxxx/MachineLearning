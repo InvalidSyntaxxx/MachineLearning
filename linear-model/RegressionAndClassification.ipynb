{
 "cells": [
  {
   "cell_type": "markdown",
   "metadata": {},
   "source": [
    "                        西瓜数据集\n",
    "\n",
    "| 编号 | 色泽 | 根蒂 | 敲声 | 纹理 | 脐部 | 触感 | 密度  | 含糖率 | 好瓜 |\n",
    "| ---- | ---- | ---- | ---- | ---- | ---- | ---- | ----- | ------ | ---- |\n",
    "| 1    | 青绿 | 蜷缩 | 浊响 | 清晰 | 凹陷 | 硬滑 | 0.697 | 0.46   | 是   |\n",
    "| 2    | 乌黑 | 蜷缩 | 沉闷 | 清晰 | 凹陷 | 硬滑 | 0.774 | 0.376  | 是   |\n",
    "| 3    | 乌黑 | 蜷缩 | 浊响 | 清晰 | 凹陷 | 硬滑 | 0.634 | 0.264  | 是   |\n",
    "| 4    | 青绿 | 蜷缩 | 沉闷 | 清晰 | 凹陷 | 硬滑 | 0.608 | 0.318  | 是   |\n",
    "| 5    | 浅白 | 蜷缩 | 浊响 | 清晰 | 凹陷 | 硬滑 | 0.556 | 0.215  | 是   |\n",
    "| 6    | 青绿 | 稍蜷 | 浊响 | 清晰 | 稍凹 | 软粘 | 0.403 | 0.237  | 是   |\n",
    "| 7    | 乌黑 | 稍蜷 | 浊响 | 稍糊 | 稍凹 | 软粘 | 0.481 | 0.149  | 是   |\n",
    "| 8    | 乌黑 | 稍蜷 | 浊响 | 清晰 | 稍凹 | 硬滑 | 0.437 | 0.211  | 是   |\n",
    "| 9    | 乌黑 | 稍蜷 | 沉闷 | 稍糊 | 稍凹 | 硬滑 | 0.666 | 0.091  | 否   |\n",
    "| 10   | 青绿 | 硬挺 | 清脆 | 清晰 | 平坦 | 软粘 | 0.243 | 0.267  | 否   |\n",
    "| 11   | 浅白 | 硬挺 | 清脆 | 模糊 | 平坦 | 硬滑 | 0.245 | 0.057  | 否   |\n",
    "| 12   | 浅白 | 蜷缩 | 浊响 | 模糊 | 平坦 | 软粘 | 0.343 | 0.099  | 否   |\n",
    "| 13   | 青绿 | 稍蜷 | 浊响 | 稍糊 | 凹陷 | 硬滑 | 0.639 | 0.161  | 否   |\n",
    "| 14   | 浅白 | 稍蜷 | 沉闷 | 稍糊 | 凹陷 | 硬滑 | 0.657 | 0.198  | 否   |\n",
    "| 15   | 乌黑 | 稍蜷 | 浊响 | 清晰 | 稍凹 | 软粘 | 0.36  | 0.37   | 否   |\n",
    "| 16   | 浅白 | 蜷缩 | 浊响 | 模糊 | 平坦 | 硬滑 | 0.593 | 0.042  | 否   |\n",
    "| 17   | 青绿 | 蜷缩 | 沉闷 | 稍糊 | 稍凹 | 硬滑 | 0.719 | 0.103  | 否   |\n",
    "\n",
    "1. 请用色泽,根蒂,敲声,纹理,脐部,触感,密度,好瓜作为特征，建立对含糖率的线性估计模型。考虑使用适当的评估方法选择合适的模型参数。（2分）\n",
    "\n",
    "2. 请使用色泽,根蒂,敲声,纹理,脐部,触感,密度,含糖率作为特征，建立对好瓜的对数几率回归模型。（3分）\n",
    "\n",
    "3. 请使用根蒂,敲声,纹理,脐部,触感,密度,含糖率,好瓜作为特征，建立对色泽的多类分类模型。（5分）\n"
   ]
  },
  {
   "cell_type": "markdown",
   "metadata": {},
   "source": [
    "对数据进行预处理，将离散属性色泽,根蒂,敲声,纹理,脐部,触感的值转换为连续值（假设这里属性间都存在“序”关系）\n",
    "\n",
    "$$X_{i}^{色泽}=\\left\\{\\begin{matrix}0.0，X_{i}=青绿\n",
    " \\\\0.5，X_{i}=乌黑\n",
    " \\\\1.0，X_{i}=浅白\n",
    "\n",
    "\\end{matrix}\\right.\n",
    "\n",
    ", X_{i}^{根蒂}=\\left\\{\\begin{matrix}0.0，X_{i}=蜷缩\n",
    " \\\\0.5，X_{i}=稍缩\n",
    " \\\\1.0，X_{i}=硬挺\n",
    "\n",
    "\\end{matrix}\\right.\n",
    "\n",
    ", X_{i}^{敲声}=\\left\\{\\begin{matrix}0.0，X_{i}=清脆\n",
    " \\\\0.5，X_{i}=浊响\n",
    " \\\\1.0，X_{i}=沉闷\n",
    "\n",
    "\\end{matrix}\\right.\n",
    "$$\n",
    "\n",
    "$$\n",
    "X_{i}^{纹理}=\\left\\{\\begin{matrix}0.0，X_{i}=清晰\n",
    " \\\\0.5，X_{i}=稍糊\n",
    " \\\\1.0，X_{i}=模糊\n",
    "\n",
    "\\end{matrix}\\right.\n",
    "\n",
    ", X_{i}^{脐部}=\\left\\{\\begin{matrix}0.0，X_{i}=平坦\n",
    " \\\\0.5，X_{i}=稍凹\n",
    " \\\\1.0，X_{i}=凹陷\n",
    "\n",
    "\\end{matrix}\\right.\n",
    "\n",
    ", X_{i}^{触感}=\\left\\{\\begin{matrix}0.0，X_{i}=硬滑\n",
    "\n",
    " \\\\1.0，X_{i}=软粘\n",
    "\n",
    "\\end{matrix}\\right.\n",
    "$$\n",
    "\n",
    "$$\n",
    "X_{i}^{好瓜}=\\left\\{\\begin{matrix}0.0，X_{i}=否\n",
    "\n",
    " \\\\1.0，X_{i}=是\n",
    "\n",
    "\\end{matrix}\\right.\n",
    "$$\n",
    "\n",
    "接下来按照如图关系进行数值转换"
   ]
  },
  {
   "cell_type": "code",
   "execution_count": 231,
   "metadata": {},
   "outputs": [],
   "source": [
    "from functools import lru_cache\n",
    "import math\n",
    "import numpy as np\n",
    "import pandas as pd\n",
    "from sklearn.model_selection import train_test_split\n",
    "from sklearn.metrics import accuracy_score\n",
    "\n",
    "def dataTransform(path)-> None:  # 对离散数据值进行转换\n",
    "    data = pd.read_csv(path)\n",
    "    data = data[['色泽','根蒂','敲声','纹理','脐部','触感','密度','含糖率','好瓜']]\n",
    "    returndata = []\n",
    "    for datai in data.values:\n",
    "        temp =[]\n",
    "        for dataii in datai:\n",
    "            if dataii in ['青绿','蜷缩','清脆','清晰','平坦','硬滑','否']:\n",
    "                temp.append(0.0)\n",
    "            elif dataii in ['乌黑','稍蜷','浊响','稍糊','稍凹']:\n",
    "                temp.append(0.5)\n",
    "            elif isinstance(dataii,float) == True:\n",
    "                temp.append(dataii)\n",
    "            else:\n",
    "                temp.append(1.0)\n",
    "        returndata.append(temp)\n",
    "    return returndata\n",
    "# np.array(dataTransform())\n",
    "\n",
    "def sigmoid(z):\n",
    "\treturn 1.0 / (1 + np.exp(-z))"
   ]
  },
  {
   "cell_type": "markdown",
   "metadata": {},
   "source": [
    "使用 `广义回归模型` 解决第一题"
   ]
  },
  {
   "cell_type": "code",
   "execution_count": 560,
   "metadata": {},
   "outputs": [
    {
     "name": "stdout",
     "output_type": "stream",
     "text": [
      "得分： 0.5368386371736338 \n",
      "最佳拟合线:截距 0.2421688818367096 \n",
      "回归系数： [-0.04355537 -0.03818199 -0.08243423 -0.13902141  0.10685236  0.06403155\n",
      "  0.02657853]\n",
      "[0.12048275 0.22081439 0.28710909 0.26538111 0.31002965]\n"
     ]
    },
    {
     "data": {
      "image/png": "[encoded data removed]",
      "text/plain": [
       "<Figure size 432x288 with 1 Axes>"
      ]
     },
     "metadata": {
      "needs_background": "light"
     },
     "output_type": "display_data"
    }
   ],
   "source": [
    "from sklearn.linear_model import LinearRegression\n",
    "data = dataTransform(path='../datasets/watermelon.csv')\n",
    "\n",
    "train,test = train_test_split(data,test_size=0.25) # 分割训练集和验证集\n",
    "train,test = np.array(train),np.array(test) # 将 list 转为 np.ndarray\n",
    "\n",
    "model = LinearRegression()\n",
    "model.fit(train[::,:-2],train[::,-2])\n",
    "score = model.score(test[::,:-2],test[::,-2])\n",
    "\n",
    "a  = model.intercept_      #截距\n",
    "b = model.coef_            #回归系数 \n",
    "print(\"得分：\",score,\"\\n最佳拟合线:截距\",a,\"\\n回归系数：\",b)\n",
    "\n",
    "#对线性回归进行预测\n",
    " \n",
    "Y_pred = model.predict(test[::,:-2])\n",
    "print(Y_pred)\n",
    "plt.plot(range(len(Y_pred)),Y_pred,'b',label=\"predict\")\n",
    "#显示图像\n",
    "plt.show()\n",
    "\n"
   ]
  },
  {
   "cell_type": "markdown",
   "metadata": {},
   "source": [
    "使用 `对数几率回归` 解决第二题"
   ]
  },
  {
   "cell_type": "code",
   "execution_count": 494,
   "metadata": {},
   "outputs": [
    {
     "name": "stdout",
     "output_type": "stream",
     "text": [
      "第二题正确率： 83.33333333333334 %\n"
     ]
    }
   ],
   "source": [
    "class LogisticsRegression(object):\n",
    "\n",
    "    def __init__(self,train_data,train_feature,test_data,test_feature) -> None:\n",
    "        self.train_data = train_data\n",
    "        self.train_feature = train_feature\n",
    "        self.test_data = test_data\n",
    "        self.test_feature = test_feature  \n",
    "\n",
    "    def train(self):\n",
    "        # 将列表转化为矩阵\n",
    "        data = np.mat(self.train_data)\n",
    "        label = np.mat(self.train_feature).transpose() \n",
    "        \n",
    "        w = np.ones((len(self.train_data[0])+1, 1))     #初始化参数w\n",
    "        a = np.ones((len(self.train_data), 1))          #属性矩阵最后添加一列全1列（参数w中有常数参数\n",
    "        data = np.c_[data, a]\n",
    "        n = 0.0001  #步长\n",
    "\t    #每次迭代计算一次正确率（在测试集上的正确率）\n",
    "\t    #达到0.75的正确率，停止迭代\n",
    "        rightrate = 0.0\n",
    "        while rightrate < 0.05:#计算当前参数w下的预测值\n",
    "            c = sigmoid(np.dot(data, w))#梯度下降的计算过程，对照着梯度下降的公式\n",
    "            change = np.dot(np.transpose(data), c - label)\n",
    "            w = w - change * n\n",
    "\t    \t#预测，更新正确率\n",
    "            rightrate = self.test(self.test_data, self.test_feature, w)\n",
    "            return w\n",
    "\n",
    "\n",
    "    def test(self,data, feature, w):\n",
    "        data = np.mat(data)\n",
    "        a = np.ones((len(data), 1))\n",
    "        data = np.c_[data, a]\n",
    "        y = sigmoid(np.dot(data, w))     #使用训练好的参数w进行计算\n",
    "        b = np.shape(y)[0]\n",
    "        rightcount = 0    \t             #记录预测正确的个数，用于计算正确率\n",
    "        for i in range(b):\n",
    "    \t\t#预测标签\n",
    "            flag = -1\n",
    "    \t\t#大于0.5的为正例\n",
    "            if y[i] > 0.5:\n",
    "                flag = 1\n",
    "    \t\t#小于等于0.5的为反例\n",
    "            else:\n",
    "                flag = 0\n",
    "    \t\t#记录预测正确的个数\n",
    "            # print(feature[i])\n",
    "            if feature[i] == flag:\n",
    "                rightcount += 1\n",
    "\n",
    "    \t#正确率\n",
    "        rightrate = rightcount / len(data)\n",
    "        return rightrate\n",
    "\n",
    "data = dataTransform(path='../datasets/watermelon.csv')\n",
    "\n",
    "train,test = train_test_split(data,test_size=0.35) # 分割训练集和验证集\n",
    "train,test = np.array(train),np.array(test) # 将 list 转为 np.ndarray\n",
    "\n",
    "lr  = LogisticsRegression(train[::,:-1],train[::,-1],test[::,:-1],test[::,-1])\n",
    "w = lr.train()\n",
    "print(\"第二题正确率：\",100*lr.test(test[::,:-1], test[::,-1], w),\"%\")"
   ]
  },
  {
   "cell_type": "markdown",
   "metadata": {},
   "source": [
    "使用 `OvO` 分类器解决第三题 "
   ]
  },
  {
   "cell_type": "code",
   "execution_count": 566,
   "metadata": {},
   "outputs": [
    {
     "name": "stdout",
     "output_type": "stream",
     "text": [
      "[[0.    0.5   0.    1.    0.    0.634 0.264 1.   ]\n",
      " [0.    1.    0.    1.    0.    0.774 0.376 1.   ]\n",
      " [0.5   0.5   0.    0.5   0.    0.437 0.211 1.   ]\n",
      " [0.    0.5   0.    1.    0.    0.697 0.46  1.   ]\n",
      " [1.    0.    1.    0.    0.    0.245 0.057 0.   ]\n",
      " [0.    0.5   0.    1.    0.    0.556 0.215 1.   ]\n",
      " [0.    1.    0.    1.    0.    0.608 0.318 1.   ]\n",
      " [0.5   0.5   0.    0.5   1.    0.403 0.237 1.   ]\n",
      " [0.5   1.    0.5   1.    0.    0.657 0.198 0.   ]\n",
      " [0.5   0.5   0.    0.5   1.    0.36  0.37  0.   ]\n",
      " [0.5   1.    0.5   0.5   0.    0.666 0.091 0.   ]] [0.5 0.5 0.5 0.  1.  1.  0.  0.  1.  0.5 0.5]\n",
      "得分： 0.8333333333333334\n"
     ]
    }
   ],
   "source": [
    "from sklearn.linear_model import LogisticRegression\n",
    "from sklearn.multiclass import OneVsOneClassifier\n",
    "from sklearn.datasets import load_digits\n",
    "from sklearn.model_selection import train_test_split\n",
    "d=load_digits()\n",
    "x=d.data\n",
    "y=d.target\n",
    "# print(d)\n",
    "data = dataTransform('../datasets/watermelon.csv')\n",
    "train,test = train_test_split(data,test_size=0.35) # 分割训练集和验证集\n",
    "train,test = np.array(train),np.array(test) # 将 list 转为 np.ndarray\n",
    "log_reg1=LogisticRegression(multi_class=\"multinomial\",solver=\"newton-cg\")\n",
    "ovo=OneVsOneClassifier(log_reg1)\n",
    "print(train[::,1:],(train[::,0]))\n",
    "ovo.fit(train[::,1:],(train[::,0]).astype('int'))\n",
    "score = ovo.score(test[::,1:],test[::,0].astype('int'))\n",
    "print(\"得分：\",score)"
   ]
  }
 ],
 "metadata": {
  "kernelspec": {
   "display_name": "Python 3.9.5 64-bit (system)",
   "language": "python",
   "name": "python3"
  },
  "language_info": {
   "codemirror_mode": {
    "name": "ipython",
    "version": 3
   },
   "file_extension": ".py",
   "mimetype": "text/x-python",
   "name": "python",
   "nbconvert_exporter": "python",
   "pygments_lexer": "ipython3",
   "version": "3.9.5"
  },
  "orig_nbformat": 4,
  "vscode": {
   "interpreter": {
    "hash": "81794d4967e6c3204c66dcd87b604927b115b27c00565d3d43f05ba2f3a2cb0d"
   }
  }
 },
 "nbformat": 4,
 "nbformat_minor": 2
}
